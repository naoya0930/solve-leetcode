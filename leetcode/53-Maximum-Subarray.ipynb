{
 "cells": [
  {
   "cell_type": "markdown",
   "metadata": {},
   "source": [
    "問題URL:https://leetcode.com/problems/maximum-subarray/description/\n",
    "タイトル：Maximum Subarray"
   ]
  },
  {
   "cell_type": "code",
   "execution_count": null,
   "metadata": {},
   "outputs": [],
   "source": [
    "class Solution:\n",
    "    def maxSubArray(self, nums: List[int]) -> int:\n",
    "        MINUS_INF =-10000000000\n",
    "        dp = [MINUS_INF] * (len(nums)+1)\n",
    "        dp[0]=nums[0]\n",
    "        for i in range(len(nums)+1):\n",
    "            for k in range(i):\n",
    "                tmp =sum(nums[k:i])\n",
    "                if tmp > dp[i]:\n",
    "                    dp[i] = tmp\n",
    "        return max(dp)"
   ]
  },
  {
   "cell_type": "markdown",
   "metadata": {},
   "source": [
    "# 学習したこと\n",
    "- for文は`for i range(1,max)`が基本\n",
    "- combinationの記法\n",
    "  - `nCk = (n-k+1)/k * nCk-1`で帰納できる\n",
    "- sumを捜査しているので、実質的にO(n^2)"
   ]
  },
  {
   "cell_type": "code",
   "execution_count": null,
   "metadata": {},
   "outputs": [],
   "source": [
    "\n",
    "# Order(n)で解く\n",
    "class Solution:\n",
    "    def maxSubArray(self, nums: List[int]) -> int:\n",
    "        MINUS_INF =-10000000000\n",
    "        # dp = [MINUS_INF] * (len(nums)+1)\n",
    "        # dp[0]=nums[0]\n",
    "\n",
    "        sq_max = [MINUS_INF] * (len(nums)+1)\n",
    "        answer = [MINUS_INF] * (len(nums)+1)\n",
    "        for i in range(1,len(nums)+1):\n",
    "            sq_max[i] = max(sq_max[i-1]+nums[i-1],nums[i-1])\n",
    "            answer[i] = max(sq_max[i], answer[i-1])\n",
    "        return answer[len(nums)]"
   ]
  }
 ],
 "metadata": {
  "language_info": {
   "name": "python"
  }
 },
 "nbformat": 4,
 "nbformat_minor": 2
}
