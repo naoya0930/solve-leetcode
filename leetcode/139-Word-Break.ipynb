{
 "cells": [
  {
   "cell_type": "markdown",
   "metadata": {},
   "source": [
    "問題URL:https://leetcode.com/problems/word-break/\n",
    "タイトル：139. Word Break"
   ]
  },
  {
   "cell_type": "code",
   "execution_count": null,
   "metadata": {},
   "outputs": [],
   "source": [
    "class Solution:\n",
    "    def wordBreak(self, s: str, wordDict: List[str]) -> bool:\n",
    "        dp = [False] * (len(s)+1)\n",
    "        dp[0] = True\n",
    "        for cnt in range(1, len(s)+1):\n",
    "            for word in (wordDict):\n",
    "                if cnt - len(word) < 0:\n",
    "                    continue\n",
    "                else:\n",
    "                   if dp[cnt-len(word)] and s[cnt-len(word) : cnt] == word:\n",
    "                        dp[cnt]=True\n",
    "        return dp[len(s)]"
   ]
  },
  {
   "cell_type": "markdown",
   "metadata": {},
   "source": [
    "# 学習したこと\n",
    "- 自分で解けたよ。やったね！\n",
    "- "
   ]
  }
 ],
 "metadata": {
  "language_info": {
   "name": "python"
  }
 },
 "nbformat": 4,
 "nbformat_minor": 2
}
