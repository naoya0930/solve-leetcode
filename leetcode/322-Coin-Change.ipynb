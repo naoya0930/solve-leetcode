{
 "cells": [
  {
   "cell_type": "markdown",
   "metadata": {},
   "source": [
    "問題URL:https://leetcode.com/problems/coin-change/description/\n",
    "タイトル：322. Coin Change"
   ]
  },
  {
   "cell_type": "code",
   "execution_count": null,
   "metadata": {},
   "outputs": [],
   "source": [
    "class Solution:\n",
    "    def coinChange(self, coins: List[int], amount: int) -> int:\n",
    "        INF = 10000000\n",
    "        dp = [INF] * (amount+1)\n",
    "        dp[0] = 0\n",
    "        for coin in coins:\n",
    "            # あるコインが与えられた時\n",
    "            for i in range(1,amount+1):\n",
    "                if i - coin >= 0:\n",
    "                    dp[i] = min(dp[i],dp[i - coin] + 1)\n",
    "\n",
    "    return dp[amount] if dp[amount] != INF else -1"
   ]
  },
  {
   "cell_type": "markdown",
   "metadata": {},
   "source": [
    "### 学習したこと\n",
    "- ナップサック問題ではない\n",
    "- コインが無限にある時にどれだけ入るか？を考えるDP\n",
    "- amount * coin数で考える\n",
    "#### 解法\n",
    "- あるamountは、以下の2つの最小数で決まる\n",
    "  - 今のdp[i]の値\n",
    "  - dp[i-coin]の値"
   ]
  }
 ],
 "metadata": {
  "language_info": {
   "name": "python"
  }
 },
 "nbformat": 4,
 "nbformat_minor": 2
}
