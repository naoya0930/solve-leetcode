{
 "cells": [
  {
   "cell_type": "markdown",
   "metadata": {},
   "source": [
    "問題URL:https://leetcode.com/problems/house-robber/\n",
    "タイトル：198. House Robber"
   ]
  },
  {
   "cell_type": "code",
   "execution_count": null,
   "metadata": {},
   "outputs": [],
   "source": [
    "class Solution:\n",
    "    def rob(self, nums: List[int]) -> int:\n",
    "        # dpを使用する\n",
    "        # 端から順番に取るか、取らないかを検証する\n",
    "        # 今の物件を攻撃するのなら、2つ前の物件を攻撃した方がいい\n",
    "        house_cnt = len(nums)\n",
    "        tmp_worth = [0] *(house_cnt+1)\n",
    "        tmp_worth[0] = nums[0]\n",
    "        if (house_cnt==1):\n",
    "            return nums[0]\n",
    "        tmp_worth[1] = max(nums[0],nums[1])\n",
    "\n",
    "        for i in range (2, house_cnt):\n",
    "            # 取ったときの価値\n",
    "            t_w = tmp_worth[i-2] + nums[i]\n",
    "            # 取らなかった時の価値\n",
    "            f_w = tmp_worth[i-1]\n",
    "            if t_w < f_w:\n",
    "                tmp_worth[i] = f_w\n",
    "            else:\n",
    "                tmp_worth[i] = t_w\n",
    "        return tmp_worth[house_cnt-1]\n",
    "            \n",
    "        "
   ]
  },
  {
   "cell_type": "markdown",
   "metadata": {},
   "source": [
    "# 学習したこと\n",
    "- 物件の数に対して動的計画法を適応する\n",
    "- 最適化されていれば、後ろの物件は見なくてよい\n",
    "- 解放 \n",
    "  - 今の物件を襲うならば、i-2番目を見たまでの最大値と今の物件の和\n",
    "  - 今の物件を襲わないならば、i-1番目を見たまでの最大値\n",
    "  - どちらか大きい方が、その物件までの最大値"
   ]
  },
  {
   "cell_type": "markdown",
   "metadata": {},
   "source": []
  }
 ],
 "metadata": {
  "language_info": {
   "name": "python"
  }
 },
 "nbformat": 4,
 "nbformat_minor": 2
}
