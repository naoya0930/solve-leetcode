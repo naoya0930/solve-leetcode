{
 "cells": [
  {
   "cell_type": "markdown",
   "metadata": {},
   "source": [
    "問題URL:https://leetcode.com/problems/unique-paths/\n",
    "タイトル：62. Unique Paths"
   ]
  },
  {
   "cell_type": "code",
   "execution_count": null,
   "metadata": {},
   "outputs": [],
   "source": [
    "class Solution:\n",
    "    def uniquePaths(self, m: int, n: int) -> int:\n",
    "        m-=1\n",
    "        n-=1\n",
    "        ans = 1\n",
    "        for i in range (m):\n",
    "            ans *=(n+i+1)/(m-i)\n",
    "        return int (ans)"
   ]
  },
  {
   "cell_type": "markdown",
   "metadata": {},
   "source": [
    "# 学習したこと\n",
    "- パスの数え方に注意\n",
    "- combinationの記法\n",
    "  - `nCk = (n-k+1)/k * nCk-1`で帰納できる"
   ]
  }
 ],
 "metadata": {
  "language_info": {
   "name": "python"
  }
 },
 "nbformat": 4,
 "nbformat_minor": 2
}
