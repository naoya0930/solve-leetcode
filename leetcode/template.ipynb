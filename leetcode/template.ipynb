{
 "cells": [
  {
   "cell_type": "markdown",
   "metadata": {},
   "source": [
    "問題URL:\n",
    "タイトル："
   ]
  },
  {
   "cell_type": "code",
   "execution_count": null,
   "metadata": {},
   "outputs": [],
   "source": [
    "class Solution:\n",
    "\n",
    "    def climbStairs(self, n: int) -> int:\n",
    "        if n <3:\n",
    "            return n\n",
    "        ans = 0 \n",
    "        count_t_set= n//2\n",
    "        \n",
    "        for i in range (0,count_t_set+1):\n",
    "            num_one = n - 2*i\n",
    "            num_two = i\n",
    "            ans = ans + self._func(num_one+num_two,num_one,num_two)\n",
    "        return ans\n",
    "\n",
    "    def _func(self,n,o,t):\n",
    "        tmp = 1\n",
    "        # conbination \n",
    "        for k in range (1,t+1):\n",
    "            tmp =tmp *(n-k+1)//k \n",
    "        return tmp"
   ]
  },
  {
   "cell_type": "markdown",
   "metadata": {},
   "source": [
    "# 学習したこと\n",
    "- for文は`for i range(1,max)`が基本\n",
    "- combinationの記法\n",
    "  - `nCk = (n-k+1)/k * nCk-1`で帰納できる"
   ]
  }
 ],
 "metadata": {
  "language_info": {
   "name": "python"
  }
 },
 "nbformat": 4,
 "nbformat_minor": 2
}
