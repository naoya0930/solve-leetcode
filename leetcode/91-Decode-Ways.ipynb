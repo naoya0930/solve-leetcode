{
 "cells": [
  {
   "cell_type": "markdown",
   "metadata": {},
   "source": [
    "問題URL:https://leetcode.com/problems/decode-ways/\n",
    "タイトル：Decode Ways"
   ]
  },
  {
   "cell_type": "code",
   "execution_count": null,
   "metadata": {
    "vscode": {
     "languageId": "plaintext"
    }
   },
   "outputs": [],
   "source": [
    "class Solution:\n",
    "    def numDecodings(self, s: str) -> int:\n",
    "        valid_uni_num_list = [1,2,3,4,5,6,7,8,9]\n",
    "        valid_d_num_list = [i for i in range(10,27)]\n",
    "        dp = [0] * (len(s)+2)\n",
    "        if not s or s[0] == '0':\n",
    "            return 0\n",
    "\n",
    "        dp[0] = 1\n",
    "        dp[1] = 1\n",
    "        for i in range (2,len(s)+1):\n",
    "            if int(s[i-1]) in valid_uni_num_list:\n",
    "                dp[i]+= dp[i-1]\n",
    "            if int(s[i-2:i]) in valid_d_num_list:\n",
    "                dp[i]+= dp[i-2]\n",
    "        \n",
    "        return dp[len(s)]\n",
    "\n",
    "\n"
   ]
  },
  {
   "cell_type": "markdown",
   "metadata": {},
   "source": [
    "# 学習したこと\n",
    "惜しいところまではいけている。"
   ]
  }
 ],
 "metadata": {
  "language_info": {
   "name": "python"
  }
 },
 "nbformat": 4,
 "nbformat_minor": 2
}
