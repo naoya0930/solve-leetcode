{
 "cells": [
  {
   "cell_type": "markdown",
   "metadata": {},
   "source": [
    "問題URL:https://leetcode.com/problems/longest-increasing-subsequence/\n",
    "タイトル：300. Longest Increasing Subsequence\n"
   ]
  },
  {
   "cell_type": "code",
   "execution_count": null,
   "metadata": {
    "vscode": {
     "languageId": "ini"
    }
   },
   "outputs": [],
   "source": [
    "class Solution:\n",
    "    def lengthOfLIS(self, nums: List[int]) -> int:\n",
    "        # 自身を採用する場合の最長の列ln\n",
    "        ln = [1] * len(nums)\n",
    "        for i in range (1, len(nums)):\n",
    "            for j in range(i):\n",
    "                # i番目より前の値を走査\n",
    "                if nums[j] < nums[i]:\n",
    "                    # 今のln[i]と条件を満たすln[j]+1の大きい方を取る\n",
    "                    ln[i] = max(ln[i],ln[j]+1)\n",
    "        return max(ln)"
   ]
  },
  {
   "cell_type": "markdown",
   "metadata": {},
   "source": [
    "### 学習したこと\n",
    "- `for`に対する`range()`は関数なので、括弧でくくる\n",
    "- 自身を採用する場合の長さは、大小の条件を満たす、今までで採用可能な配列の数＋１になる\n",
    "- 今までの解と、その関係がどうなっているのか着目する"
   ]
  }
 ],
 "metadata": {
  "language_info": {
   "name": "python"
  }
 },
 "nbformat": 4,
 "nbformat_minor": 2
}
