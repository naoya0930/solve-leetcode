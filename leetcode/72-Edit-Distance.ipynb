{
 "cells": [
  {
   "cell_type": "markdown",
   "metadata": {},
   "source": [
    "問題URL:https://leetcode.com/problems/edit-distance/\n",
    "タイトル：72. Edit Distance"
   ]
  },
  {
   "cell_type": "code",
   "execution_count": null,
   "metadata": {},
   "outputs": [],
   "source": [
    "class Solution:\n",
    "    def minDistance(self, word1: str, word2: str) -> int:\n",
    "        # ここの配列宣言の方法を見ておく\n",
    "        step = [[0] * (len(word2)+1) for _ in range(len(word1)+1)]\n",
    "        for i in range(len(word1)+1):\n",
    "            step[i][0] = i\n",
    "        for j in range(len(word2)+1):\n",
    "            step[0][j] = j\n",
    "        for i in range(1, len(word1)+1):\n",
    "            for j in range (1, len(word2)+1):\n",
    "                if word1[i-1] == word2[j-1]:\n",
    "                    step[i][j] =step[i-1][j-1]\n",
    "                else:\n",
    "                    step[i][j] = 1 + min(step[i-1][j],step[i-1][j-1],step[i][j-1])\n",
    "        return step[i][j]"
   ]
  },
  {
   "cell_type": "markdown",
   "metadata": {},
   "source": [
    "# 学習したこと\n",
    "- pythonの配列宣言の仕様\n",
    "  - `step = [[0] * (len(word2)+1) for _ in range(len(word1)+1)]`について\n",
    "  - word2が最初step[こっち][]、word1が後、step[][こっち]になる\n",
    "- 解法：\n",
    "  - 以下のような行列が得られる\n",
    "  - step[i][j]に対して、挿入（i-1から下への移動）、削除(j-1から右への移動)、置換(i-1,j-1からの移動)で定義できる\n",
    "  - "
   ]
  },
  {
   "cell_type": "markdown",
   "metadata": {},
   "source": [
    "      ''  h  o  u  r  s  e\n",
    "   +-------------------------\n",
    "'' | 0  1  2  3  4  5  6\n",
    "r  | 1  1  2  3  3  4  5\n",
    "o  | 2  2  1  2  3  4  5\n",
    "s  | 3  3  2  2  3  3  4\n"
   ]
  }
 ],
 "metadata": {
  "language_info": {
   "name": "python"
  }
 },
 "nbformat": 4,
 "nbformat_minor": 2
}
